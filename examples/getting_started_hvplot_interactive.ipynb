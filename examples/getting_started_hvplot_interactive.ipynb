{
 "cells": [
  {
   "cell_type": "markdown",
   "metadata": {},
   "source": [
    "# Turn your Pandas pipelines into data apps with hvplot `.interactive`"
   ]
  },
  {
   "cell_type": "code",
   "execution_count": null,
   "metadata": {},
   "outputs": [],
   "source": [
    "import pandas as pd\n",
    "import hvplot.pandas  # Adds .hvplot and .interactive methods to Pandas dataframes\n",
    "import panel as pn  # Panel is a simple, flexible and enterprise-ready data app framework\n",
    "\n",
    "pn.extension(sizing_mode=\"stretch_width\", template=\"fast\")\n",
    "pd.set_option(\"display.precision\", 0)\n",
    "\n",
    "PALETTE = [\n",
    "    \"#ff6f69\",\n",
    "    \"#ffcc5c\",\n",
    "    \"#88d8b0\",\n",
    "]\n",
    "ACCENT_BASE_COLOR = PALETTE[0]"
   ]
  },
  {
   "cell_type": "markdown",
   "metadata": {},
   "source": [
    "**load the data ...**"
   ]
  },
  {
   "cell_type": "code",
   "execution_count": null,
   "metadata": {},
   "outputs": [],
   "source": [
    "if not \"seattle_bikes\" in pn.state.cache:\n",
    "    try:\n",
    "        pn.state.cache[\"seattle_bikes\"] = pd.read_csv(\n",
    "            \"seattle_bikes.csv\", parse_dates=[\"Date\"]\n",
    "        ).set_index(\"Date\")\n",
    "    except FileNotFoundError:\n",
    "        pn.state.cache[\"seattle_bikes\"] = pd.read_csv(\n",
    "            \"https://data.seattle.gov/api/views/65db-xm6k/rows.csv?accessType=DOWNLOAD\",\n",
    "            parse_dates=[\"Date\"],\n",
    "        ).set_index(\"Date\")\n",
    "        pn.state.cache[\"seattle_bikes\"].to_csv(\"seattle_bikes.csv\")\n",
    "\n",
    "seattle_bikes = pn.state.cache[\"seattle_bikes\"]\n",
    "seattle_bikes.head()"
   ]
  },
  {
   "cell_type": "markdown",
   "metadata": {},
   "source": [
    "## Define your Pipeline"
   ]
  },
  {
   "cell_type": "code",
   "execution_count": null,
   "metadata": {},
   "outputs": [],
   "source": [
    "def pipeline(\n",
    "    seattle_bikes=seattle_bikes, frequency=\"D\", window=50, center=True, win_type=\"gaussian\", std=10\n",
    "):\n",
    "    return (\n",
    "        seattle_bikes.resample(frequency)\n",
    "        .sum()\n",
    "        .rolling(window, center=center, win_type=win_type)\n",
    "        .sum(std=std)\n",
    "        .dropna()\n",
    "    )\n",
    "\n",
    "\n",
    "pipeline(frequency=\"W\").head(2)"
   ]
  },
  {
   "cell_type": "markdown",
   "metadata": {},
   "source": [
    "## Define your Widgets!\n",
    "\n",
    "You can find the widget reference guides [here](https://panel.holoviz.org/reference/index.html#widgets)."
   ]
  },
  {
   "cell_type": "code",
   "execution_count": null,
   "metadata": {},
   "outputs": [],
   "source": [
    "frequency = pn.widgets.Select(\n",
    "    value=\"D\", options=[\"D\", \"W\", \"M\"], name=\"Sampling Frequency\"\n",
    ").servable(area=\"sidebar\")\n",
    "window = pn.widgets.IntSlider(value=50, start=10, end=100, name=\"Rolling Window Length\").servable(\n",
    "    area=\"sidebar\"\n",
    ")\n",
    "center = pn.widgets.Checkbox(value=True, name=\"Center\").servable(area=\"sidebar\")\n",
    "win_type = pn.widgets.Select(\n",
    "    value=\"gaussian\", options=[None, \"gaussian\"], name=\"Window Type\"\n",
    ").servable(area=\"sidebar\")\n",
    "std = pn.widgets.IntSlider(value=10, start=5, end=20, name=\"std\").servable(area=\"sidebar\")"
   ]
  },
  {
   "cell_type": "markdown",
   "metadata": {},
   "source": [
    "## Create an Interactive Pipeline With Widgets!"
   ]
  },
  {
   "cell_type": "code",
   "execution_count": null,
   "metadata": {},
   "outputs": [],
   "source": [
    "ipipeline = pipeline(\n",
    "    seattle_bikes.interactive(),\n",
    "    frequency=frequency,\n",
    "    window=window,\n",
    "    center=center,\n",
    "    win_type=win_type,\n",
    "    std=std,\n",
    ")"
   ]
  },
  {
   "cell_type": "markdown",
   "metadata": {},
   "source": [
    "## Make `.head` Interactive!"
   ]
  },
  {
   "cell_type": "code",
   "execution_count": null,
   "metadata": {},
   "outputs": [],
   "source": [
    "nrows = pn.widgets.IntSlider(value=5, start=1, end=10, name=\"Rows\").servable(area=\"sidebar\")\n",
    "ihead = ipipeline.head(nrows)\n",
    "ihead"
   ]
  },
  {
   "cell_type": "markdown",
   "metadata": {},
   "source": [
    "## Make `.plot` Interactive"
   ]
  },
  {
   "cell_type": "code",
   "execution_count": null,
   "metadata": {},
   "outputs": [],
   "source": [
    "line_width = pn.widgets.IntSlider(value=6, start=1, end=10, name=\"Line Width\").servable(\n",
    "    area=\"sidebar\"\n",
    ")\n",
    "iplot = ipipeline.plot(\n",
    "    color=PALETTE,\n",
    "    figsize=(15, 4),\n",
    "    title=\"Seatle Bike Data with Matplotlib and hvplot .interactive\",\n",
    "    lw=line_width,\n",
    ")\n",
    "iplot"
   ]
  },
  {
   "cell_type": "markdown",
   "metadata": {},
   "source": [
    "## Make `.hvplot` Interactive!\n",
    "\n",
    "`.hvplot` is a Pandas `.plot` drop in replacement that that creates beautiful, interactive plots for the browser."
   ]
  },
  {
   "cell_type": "code",
   "execution_count": null,
   "metadata": {},
   "outputs": [],
   "source": [
    "ihvplot = ipipeline.hvplot(\n",
    "    responsive=True,\n",
    "    min_height=400,\n",
    "    color=PALETTE,\n",
    "    line_width=line_width,\n",
    "    yformatter=\"%.0f\",\n",
    "    title=\"Seatle Bike Data with Bokeh and hvplot .interactive\",\n",
    ")\n",
    "ihvplot"
   ]
  },
  {
   "cell_type": "markdown",
   "metadata": {},
   "source": [
    "## Make Anything Interactive with `.pipe`"
   ]
  },
  {
   "cell_type": "markdown",
   "metadata": {},
   "source": [
    "### Make a Function Interactive"
   ]
  },
  {
   "cell_type": "code",
   "execution_count": null,
   "metadata": {},
   "outputs": [],
   "source": [
    "def message(seattle_bikes, nrows):\n",
    "    return f\"\"\"With a resampling frequency of **{frequency.value}** and window length of **{window.value}**, the aggregated dataframe contains **{len(seattle_bikes)}** rows. Below we show the first **{nrows}** rows.\"\"\"\n",
    "\n",
    "\n",
    "imessage = ipipeline.pipe(message, nrows=nrows)\n",
    "imessage"
   ]
  },
  {
   "cell_type": "markdown",
   "metadata": {},
   "source": [
    "## Serve your app panels"
   ]
  },
  {
   "cell_type": "code",
   "execution_count": null,
   "metadata": {},
   "outputs": [],
   "source": [
    "pn.pane.Markdown(\n",
    "    \"\"\"\n",
    "Check out the source [Notebook](https://github.com/awesome-panel/awesome-panel/blob/main/examples/getting_started_hvplot_interactive.ipynb).\n",
    "\"\"\"\n",
    ").servable()"
   ]
  },
  {
   "cell_type": "code",
   "execution_count": null,
   "metadata": {},
   "outputs": [],
   "source": [
    "imessage.panel().servable()\n",
    "ihead.panel().servable()\n",
    "iplot.panel(sizing_mode=\"scale_width\").servable()\n",
    "ihvplot.panel().servable();"
   ]
  },
  {
   "cell_type": "markdown",
   "metadata": {},
   "source": [
    "## Configure the Data App"
   ]
  },
  {
   "cell_type": "code",
   "execution_count": null,
   "metadata": {},
   "outputs": [],
   "source": [
    "pn.state.template.param.update(\n",
    "    site=\"Awesome Panel\",\n",
    "    title=\"Turn your pipelines into data apps with hvplot .interactive and Panel\",\n",
    "    accent_base_color=ACCENT_BASE_COLOR,\n",
    "    header_background=ACCENT_BASE_COLOR,\n",
    ")"
   ]
  },
  {
   "cell_type": "markdown",
   "metadata": {},
   "source": [
    "You can **serve the app** with `panel serve HvplotInteractive.ipynb`. Add `--autoreload` for *hot reloading* while developing. The app is available at [http://localhost:5006/HvplotInteractive](http://localhost:5006/HvplotInteractive).\n",
    "\n",
    "- For previewing the app in Jupyter lab check out the [Panel Jupyter Lab Preview](https://blog.holoviz.org/panel_0.12.0.html#JupyterLab-previews).\n",
    "- For deployment options check out the [Server Deployment User Guide](https://panel.holoviz.org/user_guide/Server_Deployment.html)."
   ]
  }
 ],
 "metadata": {
  "kernelspec": {
   "display_name": "Python [conda env:root] *",
   "language": "python",
   "name": "conda-root-py"
  },
  "language_info": {
   "codemirror_mode": {
    "name": "ipython",
    "version": 3
   },
   "file_extension": ".py",
   "mimetype": "text/x-python",
   "name": "python",
   "nbconvert_exporter": "python",
   "pygments_lexer": "ipython3",
   "version": "3.9.10"
  }
 },
 "nbformat": 4,
 "nbformat_minor": 4
}
