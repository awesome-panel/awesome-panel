{
 "cells": [
  {
   "cell_type": "markdown",
   "metadata": {
    "id": "xSDoNd9-k06z"
   },
   "source": [
    "# Panel - Getting Started Example\n",
    "\n",
    "This example shows how to develop a Panel data app like the below end to end in a Notebook.\n",
    "\n",
    "![Panel Example App](https://user-images.githubusercontent.com/42288570/148636772-c2cc4888-0bf0-4356-8cc5-a962519e4506.gif)."
   ]
  },
  {
   "cell_type": "markdown",
   "metadata": {
    "id": "vJTx73WGl9CE"
   },
   "source": [
    "## Data Import"
   ]
  },
  {
   "cell_type": "code",
   "execution_count": null,
   "metadata": {
    "id": "5DdvrKv33lXS"
   },
   "outputs": [],
   "source": [
    "import pandas as pd\n",
    "import panel as pn"
   ]
  },
  {
   "cell_type": "code",
   "execution_count": null,
   "metadata": {
    "id": "_SIb3HVDl7P3"
   },
   "outputs": [],
   "source": [
    "data_url = \"https://cdn.jsdelivr.net/gh/holoviz/panel@master/examples/assets/occupancy.csv\"\n",
    "\n",
    "if not \"occupancy\" in pn.state.cache:\n",
    "    data = pn.state.cache[\"occupancy\"] = pd.read_csv(data_url, parse_dates=[\"date\"]).set_index(\n",
    "        \"date\"\n",
    "    )\n",
    "else:\n",
    "    data = pn.state.cache[\"occupancy\"]\n",
    "\n",
    "data.head()"
   ]
  },
  {
   "cell_type": "markdown",
   "metadata": {
    "id": "CvI7iKvmklmj"
   },
   "source": [
    "# Data Visualization\n",
    "\n",
    "For simplicity we will be using Matplotlib. But you can use any of your favorite plotting libraries."
   ]
  },
  {
   "cell_type": "code",
   "execution_count": null,
   "metadata": {
    "id": "3USESUAMikg6"
   },
   "outputs": [],
   "source": [
    "import numpy as np\n",
    "from matplotlib.figure import Figure"
   ]
  },
  {
   "cell_type": "code",
   "execution_count": null,
   "metadata": {
    "id": "CkInyLQZjGaI"
   },
   "outputs": [],
   "source": [
    "primary_color = \"#0072B5\"\n",
    "secondary_color = \"#94EA84\""
   ]
  },
  {
   "cell_type": "code",
   "execution_count": null,
   "metadata": {
    "id": "EvQJRtcNjJAI"
   },
   "outputs": [],
   "source": [
    "def mpl_plot(avg, highlight):\n",
    "    fig = Figure(figsize=(10, 5))\n",
    "    ax = fig.add_subplot()\n",
    "    avg.plot(ax=ax, c=primary_color)\n",
    "    if len(highlight):\n",
    "        highlight.plot(style=\"o\", ax=ax, c=secondary_color)\n",
    "    return fig"
   ]
  },
  {
   "cell_type": "code",
   "execution_count": null,
   "metadata": {
    "id": "bIYH47UFjPXD"
   },
   "outputs": [],
   "source": [
    "def find_outliers(variable=\"Temperature\", window=20, sigma=10, view_fn=mpl_plot):\n",
    "    avg = data[variable].rolling(window=window).mean()\n",
    "    residual = data[variable] - avg\n",
    "    std = residual.rolling(window=window).std()\n",
    "    outliers = np.abs(residual) > std * sigma\n",
    "    return view_fn(avg, avg[outliers])\n",
    "\n",
    "\n",
    "find_outliers()"
   ]
  },
  {
   "cell_type": "markdown",
   "metadata": {
    "id": "AuGzJDN5mbb3"
   },
   "source": [
    "## Data Exploration\n",
    "\n",
    "Panel can help you with **interactive data exploration**."
   ]
  },
  {
   "cell_type": "code",
   "execution_count": null,
   "metadata": {},
   "outputs": [],
   "source": [
    "pn.extension(\n",
    "    sizing_mode=\"stretch_width\", template=\"fast\"\n",
    ")  # In Colab you will need to add comms='colab'"
   ]
  },
  {
   "cell_type": "code",
   "execution_count": null,
   "metadata": {},
   "outputs": [],
   "source": [
    "pn.pane.Markdown(\n",
    "    \"\"\"\n",
    "Check out the source [Notebook](https://github.com/awesome-panel/awesome-panel/blob/main/examples/getting_started_panel.ipynb).\n",
    "\"\"\"\n",
    ").servable()"
   ]
  },
  {
   "cell_type": "code",
   "execution_count": null,
   "metadata": {
    "id": "16SYxO6ymhGd"
   },
   "outputs": [],
   "source": [
    "variable = pn.widgets.RadioBoxGroup(\n",
    "    name=\"Variable\", value=\"Temperature\", options=list(data.columns)\n",
    ")\n",
    "variable.servable(area=\"sidebar\")"
   ]
  },
  {
   "cell_type": "code",
   "execution_count": null,
   "metadata": {},
   "outputs": [],
   "source": [
    "window = pn.widgets.IntSlider(name=\"Window\", value=20, start=1, end=60)\n",
    "window.servable(area=\"sidebar\")"
   ]
  },
  {
   "cell_type": "code",
   "execution_count": null,
   "metadata": {
    "id": "-uWaBjjWmlZh"
   },
   "outputs": [],
   "source": [
    "# Reactive Functions\n",
    "reactive_outliers = pn.bind(find_outliers, variable, window, 10)\n",
    "\n",
    "pn.panel(reactive_outliers, sizing_mode=\"scale_both\").servable()"
   ]
  },
  {
   "cell_type": "markdown",
   "metadata": {
    "id": "Q3O8ozUYo9JK"
   },
   "source": [
    "# Configure the Template"
   ]
  },
  {
   "cell_type": "code",
   "execution_count": null,
   "metadata": {
    "id": "gOeMU71OoyU_"
   },
   "outputs": [],
   "source": [
    "pn.state.template.param.update(\n",
    "    site=\"Awesome Panel\",\n",
    "    title=\"Getting Started with Panel\",\n",
    "    accent_base_color=primary_color,\n",
    "    header_background=primary_color,\n",
    ")"
   ]
  },
  {
   "cell_type": "markdown",
   "metadata": {
    "id": "1xZe7Rf3CREw"
   },
   "source": [
    "![Panel Example App](https://user-images.githubusercontent.com/42288570/148636772-c2cc4888-0bf0-4356-8cc5-a962519e4506.gif).\n",
    "\n",
    "## Support us\n",
    "\n",
    "If you want to support us please give us a ⭐ on Github ([Panel](https://github.com/holoviz/panel), [Awesome-Panel](https://github.com/marcskovmadsen/awesome-panel))."
   ]
  }
 ],
 "metadata": {
  "colab": {
   "collapsed_sections": [],
   "name": "panel_getting_started.ipynb",
   "provenance": []
  },
  "kernelspec": {
   "display_name": "Python 3 (ipykernel)",
   "language": "python",
   "name": "python3"
  },
  "language_info": {
   "codemirror_mode": {
    "name": "ipython",
    "version": 3
   },
   "file_extension": ".py",
   "mimetype": "text/x-python",
   "name": "python",
   "nbconvert_exporter": "python",
   "pygments_lexer": "ipython3",
   "version": "3.7.6"
  }
 },
 "nbformat": 4,
 "nbformat_minor": 4
}
